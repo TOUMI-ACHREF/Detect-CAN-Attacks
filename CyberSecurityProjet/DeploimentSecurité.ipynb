{
 "cells": [
  {
   "cell_type": "markdown",
   "metadata": {},
   "source": [
    "# NoteBook II\n",
    "\n",
    "## Objectif du Notebook\n",
    "\n",
    "Ce notebook a pour objectif de démontrer le **Meilleur Modéle** entre les modeles entraînés précédemments sur des exemples réels. Le modèle sera utilisé pour :\n",
    "1. **Simuler des attaques CAN** via des exemples pratiques.\n",
    "2. **Prédire et classifier les états** (normal ou attaqué) à partir des données injectées.\n",
    "3. **Visualiser les résultats** en temps réel.\n",
    "\n",
    "---\n",
    "\n",
    "## Structure du Notebook\n",
    "\n",
    "1. **Chargement du Modèle Enregistré**\n",
    "   - Importation du modèle entraîné.\n",
    "\n",
    "2. **Présentation des Données de Test**\n",
    "   - Données contenant des attaques simulées en conditions réelles.\n",
    "\n",
    "3. **Prédiction avec le Modèle**\n",
    "   - Application du modèle pour classifier les données.\n",
    "\n",
    "4. **Visualisation des Résultats**\n",
    "   - Affichage des prédictions pour analyser les performances du déploiement.\n",
    "\n",
    "---\n",
    "\n",
    "## Outils Utilisés\n",
    "\n",
    "- **Python** : Pour le traitement des données et les prédictions.\n",
    "- **JobLib** : Pour le chargement du modèle.\n",
    "\n",
    "---\n",
    "\n",
    "## Résultats Attendus\n",
    "\n",
    "- Vérification de la capacité du modèle à détecter les attaques CAN en conditions réelles.\n",
    "\n",
    "\n",
    "**Prochaine étape :** Implémentation du déploiement dans une application Web de simulation d'attaque et les détécter avec ce modéle fonctionnelle.\n"
   ]
  },
  {
   "cell_type": "code",
   "execution_count": 6,
   "metadata": {},
   "outputs": [],
   "source": [
    "import pandas as pd\n",
    "import numpy as np\n",
    "import joblib"
   ]
  },
  {
   "cell_type": "markdown",
   "metadata": {},
   "source": [
    "1er modele"
   ]
  },
  {
   "cell_type": "code",
   "execution_count": 7,
   "metadata": {},
   "outputs": [
    {
     "name": "stdout",
     "output_type": "stream",
     "text": [
      "Prediction for Observation 1: 2\n",
      "Prediction for Observation 2: 0\n",
      "Prediction for Observation 3: 2\n",
      "Prediction for Observation 4: 3\n"
     ]
    }
   ],
   "source": [
    "# Load the saved model\n",
    "model = joblib.load(r'C:\\Users\\21696\\Desktop\\Projet_ML2\\CyberSecurityProjet\\securityModel1.joblib')\n",
    "\n",
    "# Prepare the observations (excluding the 'target' column, if that's the label column)\n",
    "observations = np.array([\n",
    "    [116.111738, 608, 5, 24, 0, 48, 1, 139, 93, 39],     #1\n",
    "    [752.155401, 1306, 0, 3, 0, 0, 0, 0, 0, 0],          #0\n",
    "    [230.283327, 898, 64, 154, 15, 0, 0, 0, 0, 12],      #2\n",
    "    [1481193085.080826, 272, 224, 60, 48, 489, 0, 0, 0, 0] #3\n",
    "])\n",
    "\n",
    "# Predict the target values\n",
    "predictions = model.predict(observations)\n",
    "\n",
    "# Display the predictions\n",
    "for i, prediction in enumerate(predictions, 1):\n",
    "    print(f\"Prediction for Observation {i}: {prediction}\")"
   ]
  },
  {
   "cell_type": "markdown",
   "metadata": {},
   "source": [
    "2eme Modele"
   ]
  },
  {
   "cell_type": "code",
   "execution_count": 8,
   "metadata": {},
   "outputs": [
    {
     "name": "stdout",
     "output_type": "stream",
     "text": [
      "Prediction for Observation 1: 2\n",
      "Prediction for Observation 2: 0\n",
      "Prediction for Observation 3: 2\n",
      "Prediction for Observation 4: 3\n"
     ]
    }
   ],
   "source": [
    "# Load the saved model\n",
    "model = joblib.load(r'C:\\Users\\21696\\Desktop\\Projet_ML2\\CyberSecurityProjet\\securityModel2.joblib')\n",
    "\n",
    "# Prepare the observations (excluding the 'target' column, if that's the label column)\n",
    "observations = np.array([\n",
    "    [116.111738, 608, 5, 24, 0, 48, 1, 139, 93, 39],     #1\n",
    "    [752.155401, 1306, 0, 3, 0, 0, 0, 0, 0, 0],          #0\n",
    "    [230.283327, 898, 64, 154, 15, 0, 0, 0, 0, 12],      #2\n",
    "    [1481193085.080826, 272, 224, 60, 48, 489, 0, 0, 0, 0] #3\n",
    "])\n",
    "\n",
    "# Predict the target values\n",
    "predictions = model.predict(observations)\n",
    "\n",
    "# Display the predictions\n",
    "for i, prediction in enumerate(predictions, 1):\n",
    "    print(f\"Prediction for Observation {i}: {prediction}\")"
   ]
  },
  {
   "cell_type": "markdown",
   "metadata": {},
   "source": [
    "3eme Modele"
   ]
  },
  {
   "cell_type": "code",
   "execution_count": 9,
   "metadata": {},
   "outputs": [
    {
     "name": "stdout",
     "output_type": "stream",
     "text": [
      "Prediction for Observation 1: 1\n",
      "Prediction for Observation 2: 0\n",
      "Prediction for Observation 3: 2\n",
      "Prediction for Observation 4: 3\n"
     ]
    }
   ],
   "source": [
    "# Load the saved model\n",
    "model = joblib.load(r'C:\\Users\\21696\\Desktop\\Projet_ML2\\CyberSecurityProjet\\securityModel3.joblib')\n",
    "\n",
    "# Prepare the observations (excluding the 'target' column, if that's the label column)\n",
    "observations = np.array([\n",
    "    [116.111738, 608, 5, 24, 0, 48, 1, 139, 93, 39],     #1\n",
    "    [752.155401, 1306, 0, 3, 0, 0, 0, 0, 0, 0],          #0\n",
    "    [230.283327, 898, 64, 154, 15, 0, 0, 0, 0, 12],      #2\n",
    "    [1481193085.080826, 272, 224, 60, 48, 489, 0, 0, 0, 0] #3\n",
    "])\n",
    "\n",
    "# Predict the target values\n",
    "predictions = model.predict(observations)\n",
    "\n",
    "# Display the predictions\n",
    "for i, prediction in enumerate(predictions, 1):\n",
    "    print(f\"Prediction for Observation {i}: {prediction}\")"
   ]
  },
  {
   "cell_type": "markdown",
   "metadata": {},
   "source": [
    "4eme Modele"
   ]
  },
  {
   "cell_type": "code",
   "execution_count": 10,
   "metadata": {},
   "outputs": [
    {
     "name": "stdout",
     "output_type": "stream",
     "text": [
      "Prediction for Observation 1: 1\n",
      "Prediction for Observation 2: 0\n",
      "Prediction for Observation 3: 2\n",
      "Prediction for Observation 4: 3\n"
     ]
    }
   ],
   "source": [
    "# Load the saved model\n",
    "model = joblib.load(r'C:\\Users\\21696\\Desktop\\Projet_ML2\\CyberSecurityProjet\\securityModel4.joblib')\n",
    "\n",
    "# Prepare the observations (excluding the 'target' column, if that's the label column)\n",
    "observations = np.array([\n",
    "    [116.111738, 608, 5, 24, 0, 48, 1, 139, 93, 39],     #1\n",
    "    [752.155401, 1306, 0, 3, 0, 0, 0, 0, 0, 0],          #0\n",
    "    [230.283327, 898, 64, 154, 15, 0, 0, 0, 0, 12],      #2\n",
    "    [1481193085.080826, 272, 224, 60, 48, 489, 0, 0, 0, 0] #3\n",
    "])\n",
    "\n",
    "# Predict the target values\n",
    "predictions = model.predict(observations)\n",
    "\n",
    "# Display the predictions\n",
    "for i, prediction in enumerate(predictions, 1):\n",
    "    print(f\"Prediction for Observation {i}: {prediction}\")"
   ]
  },
  {
   "cell_type": "markdown",
   "metadata": {},
   "source": [
    "#FIN"
   ]
  }
 ],
 "metadata": {
  "kernelspec": {
   "display_name": "Python 3",
   "language": "python",
   "name": "python3"
  },
  "language_info": {
   "codemirror_mode": {
    "name": "ipython",
    "version": 3
   },
   "file_extension": ".py",
   "mimetype": "text/x-python",
   "name": "python",
   "nbconvert_exporter": "python",
   "pygments_lexer": "ipython3",
   "version": "3.10.1"
  }
 },
 "nbformat": 4,
 "nbformat_minor": 2
}
