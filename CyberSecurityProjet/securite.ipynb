{
 "cells": [
  {
   "cell_type": "markdown",
   "metadata": {},
   "source": [
    "# NoteBook I\n",
    "\n",
    "## Description du Notebook\n",
    "\n",
    "Ce Notebook implémente plusieurs algorithmes de Machine Learning pour détecter les attaques sur le protocole **CAN** utilisé dans les véhicules autonomes. Les attaques incluent :\n",
    "- **DoS (Denial of Service)** : Injection de messages avec `ID = 0x000` en boucle rapide.\n",
    "- **Fuzzy Attack** : Injection de messages aléatoires.\n",
    "- **Impersonation Attack** : Usurpation d'identité en utilisant un `ID = 0x164`.\n",
    "\n",
    "---\n",
    "\n",
    "## Structure du Notebook\n",
    "\n",
    "1. **Importation et outils**\n",
    "   - Chargement des bibliothèques nécessaires : `pandas`, `numpy`, `matplotlib`, `scikit-learn`.\n",
    "   - implémentation des fonctions pour faciliter le travaille qui suit.\n",
    "\n",
    "2. **Exploration et Préparation des Données**\n",
    "   - Lecture des données à partir d'un fichier CSV.\n",
    "   - Exploration des colonnes : `Timestamp`, `CAN ID`, `DLC`, `DATA[0-7]`.\n",
    "   - Visualisation des anomalies :\n",
    "     - **Histogrammes des CAN ID**.\n",
    "     - **Graphes temporels** pour les attaques DoS.\n",
    "\n",
    "3. **Implémentation des Algorithmes de Machine Learning**\n",
    "   - **Decision Tree**\n",
    "   - **Random Forest**\n",
    "   - **SVM (Support Vector Machine)**\n",
    "   - **KNN (K-Nearest Neighbors)**\n",
    "   - **Naive Bayes**\n",
    "   - **Gradient Boosting**\n",
    "   - **Regression Logistique**\n",
    "\n",
    "4. **Comparaison des Modèles**\n",
    "   - Utilisation des métriques d'évaluation :\n",
    "     - Precision\n",
    "     - Rappel\n",
    "     - Accuracy\n",
    "   - Visualisation des résultats sous forme de **matrice de confusion** et de **graphiques comparatifs**.\n",
    "\n",
    "5. **Conclusion**\n",
    "   - Discussion des performances des modèles.\n",
    "   - Identification du meilleur algorithme pour la détection des attaques CAN.\n",
    "\n",
    "---\n",
    "\n",
    "## Résultats Attendus\n",
    "\n",
    "- **Visualisation** des attaques grâce aux histogrammes et graphiques temporels.\n",
    "- **Comparaison** des algorithmes en termes de précision, rappel et F1-Score.\n",
    "- Sélection de l'algorithme le plus performant.\n",
    "\n",
    "---\n",
    "\n",
    "## Outils Utilisés\n",
    "- **Python** : Programmation.\n",
    "- **Pandas** : Manipulation des données.\n",
    "- **Matplotlib / Seaborn** : Visualisation.\n",
    "- **Scikit-learn** : Implémentation des modèles de Machine Learning.\n",
    "\n",
    "---\n",
    "\n",
    "### Exemple de Visualisation\n",
    "- **Histogrammes des CAN ID** : Détection des messages injectés anormaux.\n",
    "- **Graphe Temporel** : Identification des attaques DoS par surinjection de messages.\n",
    "\n",
    "---\n",
    "\n",
    "\n",
    "**Projet** : Détection des attaques CAN dans les véhicules autonomes.\n"
   ]
  },
  {
   "cell_type": "markdown",
   "metadata": {},
   "source": [
    "**IMPORTS**"
   ]
  },
  {
   "cell_type": "code",
   "execution_count": 2,
   "metadata": {},
   "outputs": [],
   "source": [
    "import pandas as pd\n",
    "import matplotlib.pyplot as plt \n",
    "import numpy as np\n",
    "import seaborn as sns\n",
    "import joblib"
   ]
  },
  {
   "cell_type": "markdown",
   "metadata": {},
   "source": [
    "ML"
   ]
  },
  {
   "cell_type": "code",
   "execution_count": 3,
   "metadata": {},
   "outputs": [],
   "source": [
    "from sklearn.tree import DecisionTreeClassifier\n",
    "from sklearn.ensemble import RandomForestClassifier\n",
    "from sklearn.neighbors import KNeighborsClassifier\n",
    "from sklearn.naive_bayes import BernoulliNB #flexible avec les données binaire\n",
    "from sklearn.naive_bayes import GaussianNB\n",
    "from sklearn.neural_network import MLPClassifier\n",
    "from sklearn.ensemble import GradientBoostingClassifier\n",
    "from sklearn.linear_model import LogisticRegression\n",
    "from sklearn.svm import LinearSVC\n",
    "from sklearn.model_selection import train_test_split"
   ]
  },
  {
   "cell_type": "code",
   "execution_count": 4,
   "metadata": {},
   "outputs": [],
   "source": [
    "from sklearn.naive_bayes import MultinomialNB\n",
    "from sklearn.model_selection import GridSearchCV"
   ]
  },
  {
   "cell_type": "markdown",
   "metadata": {},
   "source": [
    "Prediction"
   ]
  },
  {
   "cell_type": "code",
   "execution_count": 5,
   "metadata": {},
   "outputs": [],
   "source": [
    "from sklearn.metrics import confusion_matrix, accuracy_score,precision_score,recall_score\n",
    "from sklearn.metrics import f1_score"
   ]
  },
  {
   "cell_type": "markdown",
   "metadata": {},
   "source": [
    "**1.TOOLS**"
   ]
  },
  {
   "cell_type": "markdown",
   "metadata": {},
   "source": [
    "*Preprocessing TOOLS*"
   ]
  },
  {
   "cell_type": "code",
   "execution_count": 6,
   "metadata": {},
   "outputs": [],
   "source": [
    "#fontion pour deviser les données en test et train\n",
    "def split_data(train,test):\n",
    "    X_train = train.iloc[:,:-1].values\n",
    "    Y_train = train.iloc[:,-1].values\n",
    "\n",
    "    X_test = test.iloc[:,:-1].values\n",
    "    Y_test = test.iloc[:,-1].values\n",
    "    print(\"Operation: SPLIT data\")\n",
    "    print(\"**Train:\",X_train.shape,\"/\",Y_train.shape)\n",
    "    print(\"**Test:\",X_test.shape,\"/\",Y_test.shape)\n",
    "\n",
    "    return X_train, X_test, Y_train, Y_test\n",
    "\n",
    "#arbre de decision\n",
    "def DecisionTreeModel(X_train,Y_train):\n",
    "    #ccp_alpha=0.01,class_weight='balanced',\n",
    "    #cls = DecisionTreeClassifier(max_depth=5, min_samples_leaf=10, min_samples_split=10)\n",
    "    cls = DecisionTreeClassifier(max_depth=15, min_samples_leaf=15, min_samples_split=15)\n",
    "    cls.fit(X_train, Y_train)\n",
    "    print(\"Generating Model: DecisionTree \")\n",
    "    print(\"classes: \",cls.classes_)\n",
    "    return cls\n",
    "\n",
    "# naive bayes\n",
    "def NaiveBayesModel(X_train, Y_train):\n",
    "    cls = GaussianNB()\n",
    "    cls.fit(X_train, Y_train)\n",
    "    print(\"Generating Model: NaiveBayes (Bernoulli) \")\n",
    "    print(\"classes: \",type(cls.classes_[0]))\n",
    "    return cls\n",
    "\n",
    "#KNN\n",
    "def knnModel(X_train, Y_train,neighbors=5):\n",
    "    cls = KNeighborsClassifier(n_neighbors=neighbors)\n",
    "    cls.fit(X_train, Y_train)\n",
    "    print(\"Generating Model: KNeighborsClassifier (KNN) \")\n",
    "    print(\"classes: \",cls.classes_)\n",
    "    return cls\n",
    "\n",
    "\n",
    "#random forest\n",
    "def randomForestModel(X_train, Y_train):\n",
    "    cls = RandomForestClassifier(n_estimators=100, random_state=42)\n",
    "    cls.fit(X_train, Y_train)\n",
    "    print(\"Generating Model: RandomForestClassifier\")\n",
    "    print(\"classes: \",cls.classes_)\n",
    "    return cls\n",
    "\n",
    "#SVM\n",
    "def SupportVectorModel(X_train, Y_train):\n",
    "    cls = LinearSVC(C=0.1,max_iter=500, random_state=42)\n",
    "    cls.fit(X_train, Y_train)\n",
    "    print(\"Generating Model: SVC\")\n",
    "    print(\"classes: \",cls.classes_)\n",
    "    return cls\n",
    "\n",
    "#Gradient Boosting\n",
    "def GradientBoostingModel(X_train, Y_train):\n",
    "    cls = GradientBoostingClassifier(\n",
    "        n_estimators=50,       # Moins d'arbres\n",
    "        learning_rate=0.2,     # Taux d'apprentissage plus élevé\n",
    "        max_depth=3,           # Profondeur limitée\n",
    "        subsample=0.8,         # Sous-échantillonnage\n",
    "        random_state=42\n",
    "        )\n",
    "    cls.fit(X_train, Y_train)\n",
    "    print(\"Generating Model: GradientBoostingClassifier\")\n",
    "    print(\"classes: \",cls.classes_)\n",
    "    return cls\n",
    "\n",
    "#Regression logistique\n",
    "def RegressionLogistiqueModel(X_train, Y_train):\n",
    "    cls = LogisticRegression(max_iter=200) \n",
    "    cls.fit(X_train, Y_train)\n",
    "    print(\"Generating Model: LogisticRegression\")\n",
    "    print(\"classes: \",cls.classes_)\n",
    "    return cls\n",
    "\n",
    "def MultinomialNaiveBayesModel(X_train, Y_train):\n",
    "    # Setting up the parameter grid for GridSearchCV\n",
    "    param_grid = {\n",
    "        'alpha': [0.01, 0.1, 0.5, 1.0, 2.0, 5.0],  # Broader range for smoothing parameter\n",
    "        'fit_prior': [True, False],  # Learn class priors\n",
    "    }\n",
    "    # Create a MultinomialNB model\n",
    "    mnb = MultinomialNB()\n",
    "\n",
    "    # Setup the grid search\n",
    "    grid_search = GridSearchCV(mnb, param_grid, cv=5, scoring='accuracy')\n",
    "    grid_search.fit(X_train, Y_train)\n",
    "\n",
    "    # Best parameters from the grid search\n",
    "    print(\"Best parameters found: \", grid_search.best_params_)\n",
    "\n",
    "    # Predicting with the best model\n",
    "    return grid_search.best_estimator_\n"
   ]
  },
  {
   "cell_type": "markdown",
   "metadata": {},
   "source": [
    "Evaluation TOOLS"
   ]
  },
  {
   "cell_type": "code",
   "execution_count": 7,
   "metadata": {},
   "outputs": [],
   "source": [
    "#affiche l'évaluation du model selon les données de tests ou les données de train\n",
    "def model_evaluation(Y, Y_predict,cls, data_train=True):\n",
    "    classes = cls.classes_\n",
    "    if(data_train):\n",
    "        print('**with train data : ')\n",
    "    else:\n",
    "        print('**with test data : ')\n",
    "    print('Accuracy :', accuracy_score(Y, Y_predict) * 100)   \n",
    "    for class_label in classes:\n",
    "        print(f'Precision ({class_label}):', precision_score(Y, Y_predict, labels=[class_label], average='macro') * 100)\n",
    "        print(f'Recall ({class_label}):', recall_score(Y, Y_predict, labels=[class_label], average='macro') * 100)\n",
    "\n",
    "    #f1 = f1_score(Y, Y_predict)\n",
    "    #print(\"F1-score :\", f1)\n",
    "\n",
    "#affiche la matrice de confusion \n",
    "def matrice_confusion(model,X_test,Y_test):\n",
    "    Y_test_predict = model.predict(X_test)\n",
    "    cm = confusion_matrix(Y_test, Y_test_predict)\n",
    "    sns.heatmap(cm,annot=True, fmt=\"d\",xticklabels=[0,1,2,3],yticklabels=[0,1,2,3])"
   ]
  },
  {
   "cell_type": "markdown",
   "metadata": {},
   "source": [
    "**2. EXPLORATION DU DATASET**"
   ]
  },
  {
   "cell_type": "markdown",
   "metadata": {},
   "source": [
    "*Extract Data SET*"
   ]
  },
  {
   "cell_type": "code",
   "execution_count": 3,
   "metadata": {},
   "outputs": [
    {
     "data": {
      "text/html": [
       "<div>\n",
       "<style scoped>\n",
       "    .dataframe tbody tr th:only-of-type {\n",
       "        vertical-align: middle;\n",
       "    }\n",
       "\n",
       "    .dataframe tbody tr th {\n",
       "        vertical-align: top;\n",
       "    }\n",
       "\n",
       "    .dataframe thead th {\n",
       "        text-align: right;\n",
       "    }\n",
       "</style>\n",
       "<table border=\"1\" class=\"dataframe\">\n",
       "  <thead>\n",
       "    <tr style=\"text-align: right;\">\n",
       "      <th></th>\n",
       "      <th>TS</th>\n",
       "      <th>ID1</th>\n",
       "      <th>DLC0</th>\n",
       "      <th>DLC1</th>\n",
       "      <th>DLC2</th>\n",
       "      <th>DLC3</th>\n",
       "      <th>DLC4</th>\n",
       "      <th>DLC5</th>\n",
       "      <th>DLC6</th>\n",
       "      <th>DLC7</th>\n",
       "      <th>target</th>\n",
       "    </tr>\n",
       "  </thead>\n",
       "  <tbody>\n",
       "    <tr>\n",
       "      <th>0</th>\n",
       "      <td>3.850719e+02</td>\n",
       "      <td>339</td>\n",
       "      <td>0</td>\n",
       "      <td>128</td>\n",
       "      <td>16</td>\n",
       "      <td>255</td>\n",
       "      <td>0</td>\n",
       "      <td>255</td>\n",
       "      <td>144</td>\n",
       "      <td>30</td>\n",
       "      <td>0</td>\n",
       "    </tr>\n",
       "    <tr>\n",
       "      <th>1</th>\n",
       "      <td>1.481193e+09</td>\n",
       "      <td>1349</td>\n",
       "      <td>218</td>\n",
       "      <td>14</td>\n",
       "      <td>0</td>\n",
       "      <td>138</td>\n",
       "      <td>42</td>\n",
       "      <td>0</td>\n",
       "      <td>45</td>\n",
       "      <td>0</td>\n",
       "      <td>3</td>\n",
       "    </tr>\n",
       "    <tr>\n",
       "      <th>2</th>\n",
       "      <td>9.061502e+01</td>\n",
       "      <td>1266</td>\n",
       "      <td>0</td>\n",
       "      <td>0</td>\n",
       "      <td>64</td>\n",
       "      <td>56</td>\n",
       "      <td>0</td>\n",
       "      <td>0</td>\n",
       "      <td>0</td>\n",
       "      <td>165</td>\n",
       "      <td>0</td>\n",
       "    </tr>\n",
       "    <tr>\n",
       "      <th>3</th>\n",
       "      <td>1.481193e+09</td>\n",
       "      <td>1200</td>\n",
       "      <td>0</td>\n",
       "      <td>0</td>\n",
       "      <td>0</td>\n",
       "      <td>0</td>\n",
       "      <td>0</td>\n",
       "      <td>0</td>\n",
       "      <td>0</td>\n",
       "      <td>0</td>\n",
       "      <td>3</td>\n",
       "    </tr>\n",
       "    <tr>\n",
       "      <th>4</th>\n",
       "      <td>1.481193e+09</td>\n",
       "      <td>1087</td>\n",
       "      <td>16</td>\n",
       "      <td>80</td>\n",
       "      <td>100</td>\n",
       "      <td>255</td>\n",
       "      <td>81</td>\n",
       "      <td>88</td>\n",
       "      <td>9</td>\n",
       "      <td>0</td>\n",
       "      <td>3</td>\n",
       "    </tr>\n",
       "  </tbody>\n",
       "</table>\n",
       "</div>"
      ],
      "text/plain": [
       "             TS   ID1  DLC0  DLC1  DLC2  DLC3  DLC4  DLC5  DLC6  DLC7  target\n",
       "0  3.850719e+02   339     0   128    16   255     0   255   144    30       0\n",
       "1  1.481193e+09  1349   218    14     0   138    42     0    45     0       3\n",
       "2  9.061502e+01  1266     0     0    64    56     0     0     0   165       0\n",
       "3  1.481193e+09  1200     0     0     0     0     0     0     0     0       3\n",
       "4  1.481193e+09  1087    16    80   100   255    81    88     9     0       3"
      ]
     },
     "execution_count": 3,
     "metadata": {},
     "output_type": "execute_result"
    }
   ],
   "source": [
    "df = pd.DataFrame(pd.read_csv('CAN_HCRL_OTIDS_B.csv'))\n",
    "df.head()\n"
   ]
  },
  {
   "cell_type": "markdown",
   "metadata": {},
   "source": [
    "Visualisation"
   ]
  },
  {
   "cell_type": "code",
   "execution_count": 4,
   "metadata": {},
   "outputs": [
    {
     "data": {
      "image/png": "[encoded data removed]",
      "text/plain": [
       "<Figure size 1000x600 with 1 Axes>"
      ]
     },
     "metadata": {},
     "output_type": "display_data"
    }
   ],
   "source": [
    "\n",
    "# Histogramme des CAN ID pour détecter les anomalies\n",
    "plt.figure(figsize=(10, 6))\n",
    "plt.hist(df['ID1'], bins=50, color='skyblue', edgecolor='black')\n",
    "plt.title('Histogramme des CAN ID')\n",
    "plt.xlabel('CAN ID')\n",
    "plt.ylabel('Nombre de messages')\n",
    "plt.grid(axis='y')\n",
    "plt.show()\n",
    "\n"
   ]
  },
  {
   "cell_type": "markdown",
   "metadata": {},
   "source": [
    "**3.Machine Learning**"
   ]
  },
  {
   "cell_type": "code",
   "execution_count": 10,
   "metadata": {},
   "outputs": [
    {
     "name": "stdout",
     "output_type": "stream",
     "text": [
      "Shape_X_train= (5954410, 10)\n",
      "Shape_Y_train= (5954410,)\n"
     ]
    }
   ],
   "source": [
    "X = df.iloc[:,:-1].values\n",
    "Y = df.iloc[:,-1].values\n",
    "X_train, X_test, Y_train, Y_test = train_test_split(X, Y, test_size=0.3, random_state=1)\n",
    "print(\"Shape_X_train=\",X_train.shape)\n",
    "print(\"Shape_Y_train=\",Y_train.shape)"
   ]
  },
  {
   "cell_type": "markdown",
   "metadata": {},
   "source": [
    "3.1 Models"
   ]
  },
  {
   "cell_type": "markdown",
   "metadata": {},
   "source": [
    "Decision Tree"
   ]
  },
  {
   "cell_type": "code",
   "execution_count": 11,
   "metadata": {},
   "outputs": [
    {
     "name": "stdout",
     "output_type": "stream",
     "text": [
      "Generating Model: DecisionTree \n",
      "classes:  [0 1 2 3]\n"
     ]
    }
   ],
   "source": [
    "cls1 = DecisionTreeModel(X_train, Y_train)"
   ]
  },
  {
   "cell_type": "markdown",
   "metadata": {},
   "source": [
    "prediction"
   ]
  },
  {
   "cell_type": "code",
   "execution_count": 12,
   "metadata": {},
   "outputs": [
    {
     "name": "stdout",
     "output_type": "stream",
     "text": [
      "**with train data : \n",
      "Accuracy : 92.48098468194162\n",
      "Precision (0): 99.19549835976838\n",
      "Recall (0): 89.61410060924412\n",
      "Precision (1): 86.59593238495833\n",
      "Recall (1): 88.61503987275111\n",
      "Precision (2): 85.43460693175224\n",
      "Recall (2): 91.69591947656002\n",
      "Precision (3): 100.0\n",
      "Recall (3): 100.0\n",
      "\n",
      "**with test data : \n",
      "Accuracy : 92.44712742320398\n",
      "Precision (0): 99.16472005192514\n",
      "Recall (0): 89.58304917338852\n",
      "Precision (1): 86.48213578000744\n",
      "Recall (1): 88.60731313074302\n",
      "Precision (2): 85.44200821259781\n",
      "Recall (2): 91.59554562350928\n",
      "Precision (3): 100.0\n",
      "Recall (3): 100.0\n"
     ]
    }
   ],
   "source": [
    "model_evaluation(Y_train, cls1.predict(X_train),cls1)\n",
    "print()\n",
    "model_evaluation(Y_test, cls1.predict(X_test),cls1, data_train=False)"
   ]
  },
  {
   "cell_type": "markdown",
   "metadata": {},
   "source": [
    "store the model (executer une seule fois j'ai deja le sauver une fois)"
   ]
  },
  {
   "cell_type": "code",
   "execution_count": 13,
   "metadata": {},
   "outputs": [],
   "source": [
    "joblib.dump(cls1, r'C:\\Users\\21696\\Desktop\\Projet_ML2\\CyberSecurityProjet\\securityModel4.joblib')\n",
    "print(\"Model saved successfully!\")"
   ]
  },
  {
   "cell_type": "markdown",
   "metadata": {},
   "source": [
    "confusion matrix"
   ]
  },
  {
   "cell_type": "code",
   "execution_count": 14,
   "metadata": {},
   "outputs": [
    {
     "data": {
      "image/png": "[encoded data removed]",
      "text/plain": [
       "<Figure size 640x480 with 2 Axes>"
      ]
     },
     "metadata": {},
     "output_type": "display_data"
    }
   ],
   "source": [
    "matrice_confusion(cls1,X_test,Y_test)"
   ]
  },
  {
   "cell_type": "markdown",
   "metadata": {},
   "source": [
    "Naive bayes"
   ]
  },
  {
   "cell_type": "code",
   "execution_count": 15,
   "metadata": {},
   "outputs": [
    {
     "name": "stdout",
     "output_type": "stream",
     "text": [
      "Generating Model: NaiveBayes (Bernoulli) \n",
      "classes:  <class 'numpy.int64'>\n"
     ]
    }
   ],
   "source": [
    "cls2 = NaiveBayesModel(X_train, Y_train)"
   ]
  },
  {
   "cell_type": "code",
   "execution_count": 16,
   "metadata": {},
   "outputs": [
    {
     "name": "stdout",
     "output_type": "stream",
     "text": [
      "**with train data : \n",
      "Accuracy : 70.12741816569567\n",
      "Precision (0): 79.1533893068993\n",
      "Recall (0): 59.03212805545667\n",
      "Precision (1): 50.77828016701172\n",
      "Recall (1): 78.81531715495561\n",
      "Precision (2): 60.77203190720688\n",
      "Recall (2): 42.66218597598459\n",
      "Precision (3): 100.0\n",
      "Recall (3): 100.0\n",
      "**with test data : \n",
      "Accuracy : 70.11097657030672\n",
      "Precision (0): 79.15507832387331\n",
      "Recall (0): 58.987841873809465\n",
      "Precision (1): 50.71810976280234\n",
      "Recall (1): 78.82239875579887\n",
      "Precision (2): 60.83711070014155\n",
      "Recall (2): 42.63376136552403\n",
      "Precision (3): 100.0\n",
      "Recall (3): 100.0\n"
     ]
    }
   ],
   "source": [
    "model_evaluation(Y_train, cls2.predict(X_train),cls2)\n",
    "model_evaluation(Y_test, cls2.predict(X_test), cls2, data_train=False)"
   ]
  },
  {
   "cell_type": "markdown",
   "metadata": {},
   "source": [
    "Multinomial naive bayes"
   ]
  },
  {
   "cell_type": "markdown",
   "metadata": {},
   "source": [
    "train with Gaussian Naive Bayes (GNB)"
   ]
  },
  {
   "cell_type": "code",
   "execution_count": 17,
   "metadata": {},
   "outputs": [
    {
     "name": "stdout",
     "output_type": "stream",
     "text": [
      "Best parameters found:  {'alpha': 0.01, 'fit_prior': True}\n"
     ]
    }
   ],
   "source": [
    "cls21= MultinomialNaiveBayesModel(X_train,Y_train)"
   ]
  },
  {
   "cell_type": "markdown",
   "metadata": {},
   "source": [
    "evaluation"
   ]
  },
  {
   "cell_type": "code",
   "execution_count": 18,
   "metadata": {},
   "outputs": [
    {
     "name": "stdout",
     "output_type": "stream",
     "text": [
      "**with train data : \n",
      "Accuracy : 62.36933634062821\n",
      "Precision (0): 86.47429279990735\n",
      "Recall (0): 58.18039537055074\n",
      "Precision (1): 28.440792747196674\n",
      "Recall (1): 16.547930593469896\n",
      "Precision (2): 61.72929156651102\n",
      "Recall (2): 74.7576859588528\n",
      "Precision (3): 65.17086476617469\n",
      "Recall (3): 100.0\n",
      "**with test data : \n",
      "Accuracy : 62.37016485820314\n",
      "Precision (0): 86.40225638395823\n",
      "Recall (0): 58.11286441063268\n",
      "Precision (1): 28.490004778805726\n",
      "Recall (1): 16.637270533786737\n",
      "Precision (2): 61.79600217247874\n",
      "Recall (2): 74.71031821900162\n",
      "Precision (3): 65.18206464556488\n",
      "Recall (3): 100.0\n"
     ]
    }
   ],
   "source": [
    "model_evaluation(Y_train, cls21.predict(X_train),cls21)\n",
    "model_evaluation(Y_test, cls21.predict(X_test), cls21, data_train=False)"
   ]
  },
  {
   "cell_type": "markdown",
   "metadata": {},
   "source": [
    "matrice de confusion"
   ]
  },
  {
   "cell_type": "code",
   "execution_count": 19,
   "metadata": {},
   "outputs": [
    {
     "data": {
      "image/png": "[encoded data removed]",
      "text/plain": [
       "<Figure size 640x480 with 2 Axes>"
      ]
     },
     "metadata": {},
     "output_type": "display_data"
    }
   ],
   "source": [
    "matrice_confusion(cls21,X_test,Y_test)"
   ]
  },
  {
   "cell_type": "markdown",
   "metadata": {},
   "source": [
    "KNN"
   ]
  },
  {
   "cell_type": "code",
   "execution_count": 20,
   "metadata": {},
   "outputs": [
    {
     "name": "stdout",
     "output_type": "stream",
     "text": [
      "Generating Model: KNeighborsClassifier (KNN) \n",
      "classes:  [0 1 2 3]\n"
     ]
    }
   ],
   "source": [
    "cls3 = knnModel(X_train, Y_train)"
   ]
  },
  {
   "cell_type": "code",
   "execution_count": null,
   "metadata": {},
   "outputs": [],
   "source": [
    "model_evaluation(Y_train, cls3.predict(X_train),cls3)\n",
    "model_evaluation(Y_test, cls3.predict(X_test),cls3, data_train=False)"
   ]
  },
  {
   "cell_type": "markdown",
   "metadata": {},
   "source": [
    "Random Forest"
   ]
  },
  {
   "cell_type": "code",
   "execution_count": null,
   "metadata": {},
   "outputs": [],
   "source": [
    "cls4 = randomForestModel(X_train, Y_train)"
   ]
  },
  {
   "cell_type": "code",
   "execution_count": null,
   "metadata": {},
   "outputs": [],
   "source": [
    "model_evaluation(Y_train, cls4.predict(X_train),cls4)\n",
    "model_evaluation(Y_test, cls4.predict(X_test), cls4 ,data_train=False)"
   ]
  },
  {
   "cell_type": "markdown",
   "metadata": {},
   "source": [
    "SVM"
   ]
  },
  {
   "cell_type": "code",
   "execution_count": null,
   "metadata": {},
   "outputs": [
    {
     "name": "stderr",
     "output_type": "stream",
     "text": [
      "c:\\Users\\21696\\AppData\\Local\\Programs\\Python\\Python310\\lib\\site-packages\\sklearn\\svm\\_classes.py:32: FutureWarning: The default value of `dual` will change from `True` to `'auto'` in 1.5. Set the value of `dual` explicitly to suppress the warning.\n",
      "  warnings.warn(\n"
     ]
    }
   ],
   "source": [
    "cls5 = SupportVectorModel(X_train, Y_train)"
   ]
  },
  {
   "cell_type": "code",
   "execution_count": null,
   "metadata": {},
   "outputs": [],
   "source": [
    "model_evaluation(Y_train, cls5.predict(X_train),cls5)\n",
    "model_evaluation(Y_test, cls5.predict(X_test), cls5 ,data_train=False)"
   ]
  },
  {
   "cell_type": "markdown",
   "metadata": {},
   "source": [
    "Gradient Boosting"
   ]
  },
  {
   "cell_type": "code",
   "execution_count": null,
   "metadata": {},
   "outputs": [],
   "source": [
    "cls6 = GradientBoostingModel(X_train, Y_train)"
   ]
  },
  {
   "cell_type": "code",
   "execution_count": null,
   "metadata": {},
   "outputs": [],
   "source": [
    "model_evaluation(Y_train, cls6.predict(X_train),cls6)\n",
    "model_evaluation(Y_test, cls6.predict(X_test), cls6 ,data_train=False)"
   ]
  },
  {
   "cell_type": "markdown",
   "metadata": {},
   "source": [
    "Regression logistique"
   ]
  },
  {
   "cell_type": "code",
   "execution_count": 11,
   "metadata": {},
   "outputs": [
    {
     "name": "stdout",
     "output_type": "stream",
     "text": [
      "Generating Model: LogisticRegression\n",
      "classes:  [0 1 2 3]\n"
     ]
    },
    {
     "name": "stderr",
     "output_type": "stream",
     "text": [
      "c:\\Users\\21696\\AppData\\Local\\Programs\\Python\\Python310\\lib\\site-packages\\sklearn\\linear_model\\_logistic.py:460: ConvergenceWarning: lbfgs failed to converge (status=2):\n",
      "ABNORMAL_TERMINATION_IN_LNSRCH.\n",
      "\n",
      "Increase the number of iterations (max_iter) or scale the data as shown in:\n",
      "    https://scikit-learn.org/stable/modules/preprocessing.html\n",
      "Please also refer to the documentation for alternative solver options:\n",
      "    https://scikit-learn.org/stable/modules/linear_model.html#logistic-regression\n",
      "  n_iter_i = _check_optimize_result(\n"
     ]
    }
   ],
   "source": [
    "cls7 = RegressionLogistiqueModel(X_train, Y_train)"
   ]
  },
  {
   "cell_type": "code",
   "execution_count": 12,
   "metadata": {},
   "outputs": [
    {
     "name": "stdout",
     "output_type": "stream",
     "text": [
      "**with train data : \n",
      "Accuracy : 24.997993084117486\n"
     ]
    },
    {
     "name": "stderr",
     "output_type": "stream",
     "text": [
      "c:\\Users\\21696\\AppData\\Local\\Programs\\Python\\Python310\\lib\\site-packages\\sklearn\\metrics\\_classification.py:1471: UndefinedMetricWarning: Precision is ill-defined and being set to 0.0 due to no predicted samples. Use `zero_division` parameter to control this behavior.\n",
      "  _warn_prf(average, modifier, msg_start, len(result))\n"
     ]
    },
    {
     "name": "stdout",
     "output_type": "stream",
     "text": [
      "Precision (0): 0.0\n",
      "Recall (0): 0.0\n"
     ]
    },
    {
     "name": "stderr",
     "output_type": "stream",
     "text": [
      "c:\\Users\\21696\\AppData\\Local\\Programs\\Python\\Python310\\lib\\site-packages\\sklearn\\metrics\\_classification.py:1471: UndefinedMetricWarning: Precision is ill-defined and being set to 0.0 due to no predicted samples. Use `zero_division` parameter to control this behavior.\n",
      "  _warn_prf(average, modifier, msg_start, len(result))\n"
     ]
    },
    {
     "name": "stdout",
     "output_type": "stream",
     "text": [
      "Precision (1): 0.0\n",
      "Recall (1): 0.0\n"
     ]
    },
    {
     "name": "stderr",
     "output_type": "stream",
     "text": [
      "c:\\Users\\21696\\AppData\\Local\\Programs\\Python\\Python310\\lib\\site-packages\\sklearn\\metrics\\_classification.py:1471: UndefinedMetricWarning: Precision is ill-defined and being set to 0.0 due to no predicted samples. Use `zero_division` parameter to control this behavior.\n",
      "  _warn_prf(average, modifier, msg_start, len(result))\n"
     ]
    },
    {
     "name": "stdout",
     "output_type": "stream",
     "text": [
      "Precision (2): 0.0\n",
      "Recall (2): 0.0\n",
      "Precision (3): 24.997993084117486\n",
      "Recall (3): 100.0\n",
      "**with test data : \n",
      "Accuracy : 25.004761177009982\n"
     ]
    },
    {
     "name": "stderr",
     "output_type": "stream",
     "text": [
      "c:\\Users\\21696\\AppData\\Local\\Programs\\Python\\Python310\\lib\\site-packages\\sklearn\\metrics\\_classification.py:1471: UndefinedMetricWarning: Precision is ill-defined and being set to 0.0 due to no predicted samples. Use `zero_division` parameter to control this behavior.\n",
      "  _warn_prf(average, modifier, msg_start, len(result))\n"
     ]
    },
    {
     "name": "stdout",
     "output_type": "stream",
     "text": [
      "Precision (0): 0.0\n",
      "Recall (0): 0.0\n",
      "Precision (1): 100.0\n",
      "Recall (1): 0.00015677937535961268\n",
      "Precision (2): 50.0\n",
      "Recall (2): 0.00015671181011543393\n",
      "Precision (3): 25.004712199247063\n",
      "Recall (3): 100.0\n"
     ]
    }
   ],
   "source": [
    "model_evaluation(Y_train, cls7.predict(X_train),cls7)\n",
    "model_evaluation(Y_test, cls7.predict(X_test), cls7 ,data_train=False)"
   ]
  },
  {
   "cell_type": "markdown",
   "metadata": {},
   "source": [
    "## Conclusion\n",
    "\n",
    "Ce projet a démontré l'efficacité des algorithmes de **Machine Learning** dans la détection des attaques ciblant le protocole **CAN** des véhicules autonomes. En utilisant des techniques telles que **Decision Tree**, les attaques **DoS**, **Fuzzy**, et **Impersonation** ont été correctement identifiées avec une haute précision.\n",
    "\n",
    "### Résumé des points clés :\n",
    "- Prétraitement des données issues du **bus CAN**.\n",
    "- Visualisation des attaques pour une meilleure compréhension.\n",
    "- Entraînement et validation des modèles de Machine Learning.\n",
    "- Comparaison des performances pour sélectionner le meilleur algorithme.\n",
    "\n",
    "### Perspectives :\n",
    "Le travail réalisé ouvre la voie à un déploiement en conditions réelles. Un site web a été conçu pour simuler les attaques et afficher les prédictions du modèle, facilitant ainsi les tests et les démonstrations interactives.\n",
    "\n",
    "**Prochaines étapes :** Déploiement du modèle sur des exemples réels pour évaluer ses performances en environnement pratique.\n"
   ]
  }
 ],
 "metadata": {
  "kernelspec": {
   "display_name": "Python 3",
   "language": "python",
   "name": "python3"
  },
  "language_info": {
   "codemirror_mode": {
    "name": "ipython",
    "version": 3
   },
   "file_extension": ".py",
   "mimetype": "text/x-python",
   "name": "python",
   "nbconvert_exporter": "python",
   "pygments_lexer": "ipython3",
   "version": "3.10.1"
  }
 },
 "nbformat": 4,
 "nbformat_minor": 2
}
